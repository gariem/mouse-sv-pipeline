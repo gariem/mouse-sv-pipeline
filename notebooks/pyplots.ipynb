{
 "cells": [
  {
   "cell_type": "code",
   "execution_count": 1,
   "metadata": {
    "collapsed": true
   },
   "outputs": [],
   "source": [
    "import pandas as pd\n",
    "import numpy as np\n",
    "import matplotlib.pyplot as plt\n",
    "\n",
    "from scipy.interpolate import make_interp_spline, BSpline\n",
    "\n",
    "data = pd.read_csv('../data/reports/details/DBA_2J-mapped_200_2_20_all.csv', names=['Chr','Type','Size'], header=None).sort_values(by=['Size'])\n",
    "\n",
    "size_bps = [50,100,1000,10000,100000,1000000,20000000]\n",
    "\n",
    "all_boxes = [15,30,35,40]\n",
    "for idx, val in enumerate(size_bps):\n",
    "    if idx==0:\n",
    "        continue\n",
    "    else: \n",
    "        all_boxes.extend(np.linspace(size_bps[idx-1], val, num=10, endpoint=False, dtype = int))\n",
    "\n",
    "data['SizeBin'] = pd.cut(x=data['Size'], bins=all_boxes)\n",
    "grouped_data=data.groupby([\"SizeBin\",\"Type\"])[\"SizeBin\"].count().unstack(\"Type\").fillna(0)\n",
    "grouped_data[\"TOTAL\"] = grouped_data.sum(axis=1)\n"
   ]
  },
  {
   "cell_type": "code",
   "execution_count": 22,
   "metadata": {
    "pycharm": {
     "name": "#%%\n"
    }
   },
   "outputs": [
    {
     "data": {
      "text/plain": "<Figure size 432x288 with 1 Axes>",
      "image/png": "[encoded data removed]"
     },
     "metadata": {
      "needs_background": "light"
     },
     "output_type": "display_data"
    }
   ],
   "source": [
    "x=[]\n",
    "for interval in grouped_data['TOTAL'].index.array:\n",
    "    x.append(interval.left)\n",
    "\n",
    "y=np.array(grouped_data['TOTAL'].values)\n",
    "x_l=np.array(x)\n",
    "x=x_new = np.linspace(1, 4, 300)\n",
    "\n",
    "plt.plot(y)\n",
    "plt.xticks(ticks=list(range(len(x_l))))\n",
    "plt.show()"
   ]
  },
  {
   "cell_type": "code",
   "execution_count": 21,
   "outputs": [
    {
     "ename": "AttributeError",
     "evalue": "'numpy.ndarray' object has no attribute 'values'",
     "output_type": "error",
     "traceback": [
      "\u001B[0;31m---------------------------------------------------------------------------\u001B[0m",
      "\u001B[0;31mAttributeError\u001B[0m                            Traceback (most recent call last)",
      "\u001B[0;32m/tmp/ipykernel_22043/713627103.py\u001B[0m in \u001B[0;36m<module>\u001B[0;34m\u001B[0m\n\u001B[0;32m----> 1\u001B[0;31m \u001B[0mx_l\u001B[0m\u001B[0;34m.\u001B[0m\u001B[0mvalues\u001B[0m\u001B[0;34m(\u001B[0m\u001B[0;34m)\u001B[0m\u001B[0;34m\u001B[0m\u001B[0;34m\u001B[0m\u001B[0m\n\u001B[0m",
      "\u001B[0;31mAttributeError\u001B[0m: 'numpy.ndarray' object has no attribute 'values'"
     ]
    }
   ],
   "source": [],
   "metadata": {
    "collapsed": false,
    "pycharm": {
     "name": "#%%\n"
    }
   }
  },
  {
   "cell_type": "code",
   "execution_count": null,
   "outputs": [],
   "source": [],
   "metadata": {
    "collapsed": false,
    "pycharm": {
     "name": "#%%\n"
    }
   }
  }
 ],
 "metadata": {
  "kernelspec": {
   "name": "conda-env-sv-py",
   "language": "python",
   "display_name": "Python [conda env:sv] *"
  },
  "language_info": {
   "codemirror_mode": {
    "name": "ipython",
    "version": 3
   },
   "file_extension": ".py",
   "mimetype": "text/x-python",
   "name": "python",
   "nbconvert_exporter": "python",
   "pygments_lexer": "ipython3",
   "version": "3.7.10"
  }
 },
 "nbformat": 4,
 "nbformat_minor": 0
}