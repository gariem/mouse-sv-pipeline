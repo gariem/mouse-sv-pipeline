{
 "cells": [
  {
   "cell_type": "code",
   "execution_count": 1,
   "metadata": {
    "collapsed": true,
    "pycharm": {
     "name": "#%%\n"
    }
   },
   "outputs": [],
   "source": [
    "import pandas as pd\n",
    "\n",
    "mini_bed_columns = ['Chr','Pos','End', 'F1', 'F2', 'AligPath','PathLength','MappingStrandSamplCtg', 'Ctg1_Strain','Ctg2_Sq','Ctg3_Chrom','AproxCtgStart','AproxCtgEnd']\n",
    "mini_types = {'Chr': 'string',\n",
    "              'Pos':'int',\n",
    "              'End':'int',\n",
    "              'SChrom': 'string'}\n",
    "\n",
    "data = pd.read_csv('sample_data/minigraph/DBA_2J_Chr19.bed', delimiter='\\t|:|#', names=mini_bed_columns, dtype=mini_types, header=None, engine='python', index_col=None, keep_default_na=False, na_values='')\n",
    "\n",
    "data['PathLength'] = data['PathLength'].fillna(0)\n",
    "data['PathLength'] = data['PathLength'].astype(int)\n",
    "\n",
    "data['Ctg2_Sq'] = data['Ctg2_Sq'].fillna(0)\n",
    "data['Ctg2_Sq'] = data['Ctg2_Sq'].astype(int)\n",
    "\n",
    "data['AproxCtgStart'] = data['AproxCtgStart'].fillna(0)\n",
    "data['AproxCtgStart'] = data['AproxCtgStart'].astype(int)\n",
    "data['AproxCtgEnd'] = data['AproxCtgEnd'].fillna(0)\n",
    "data['AproxCtgEnd'] = data['AproxCtgEnd'].astype(int)"
   ]
  },
  {
   "cell_type": "markdown",
   "metadata": {
    "collapsed": false
   },
   "source": [
    "S = Segment\n",
    "===========\n",
    "\n",
    "| Column | Field        | Type      | Regexp              | Description\n",
    "|--------|--------------|-----------|---------------------|------------\n",
    "| 1      | `RecordType` | Character | `S`                 | Record type\n",
    "| 2      | `Name`       | String    | `[!-)+-<>-~][!-~]*` | Segment name\n",
    "| 3      | `Sequence`   | String    | `\\*\\|[A-Za-z=.]+`    | Optional nucleotide sequence\n",
    "\n",
    "\n",
    "L = Link\n",
    "========\n",
    "\n",
    "| Column | Field        | Type      | Regexp                   | Description\n",
    "|--------|--------------|-----------|--------------------------|------------------\n",
    "| 1      | `RecordType` | Character | `L`                      | Record type\n",
    "| 2      | `From`       | String    | `[!-)+-<>-~][!-~]*`      | Name of segment\n",
    "| 3      | `FromOrient` | String    | `+\\|-`                    | Orientation of From segment\n",
    "| 4      | `To`         | String    | `[!-)+-<>-~][!-~]*`      | Name of segment\n",
    "| 5      | `ToOrient`   | String    | `+\\|-`                    | Orientation of `To` segment\n",
    "| 6      | `Overlap`    | String    | `\\*\\|([0-9]+[MIDNSHPX=])+`| Optional `CIGAR` string describing overlap\n",
    "\n",
    "The Overlap field is optional and can be `*`, meaning that the CIGAR string is not specified.\n",
    "\n",
    "| Tag   | Type | Description\n",
    "|-------|------|------------\n",
    "| `MQ`  | `i`  | Mapping quality\n",
    "| `NM`  | `i`  | Number of mismatches/gaps\n",
    "| `RC`  | `i`  | Read count\n",
    "| `FC`  | `i`  | Fragment count\n",
    "| `KC`  | `i`  | k-mer count\n",
    "| `ID`  | `Z`  | Edge identifier\n",
    "\n",
    "\n",
    "\n",
    "# CURRENT APPROACH:\n",
    "\n",
    "If End-Start > AligPath, then it's a DEL\n",
    "If End-Start < AligPath, then it's an INS\n",
    "\n",
    "\n",
    "Length = AligPath.Size - End - Start => +INS, -DEL\n"
   ]
  },
  {
   "cell_type": "markdown",
   "metadata": {
    "collapsed": false,
    "pycharm": {
     "name": "#%% md\n"
    }
   },
   "source": [
    "## Sample 1:\n",
    "---------------\n",
    "\n",
    "### Validated Data\n",
    "    Type: DEL H1\n",
    "    Coordinates: 19:10331722-10331765\n",
    "    Size: 45\n",
    "\n",
    "### Graph Segments\n",
    "```\n",
    "S\ts1635995\tGTTTTTTGTTTGTTTGTTTGTTTGTTTTTTGTTTGTTTTTGGTTTTTTGGTTTTG\tLN:i:55\tSN:Z:AKR_J#1#chr19\tSO:i:7131039\tSR:i:2\n",
    "L\ts1448319\t+\ts1635995\t+\t0M\tSR:i:2\tL1:i:5792\tL2:i:55\n",
    "L\ts1635995\t+\ts1448321\t+\t0M\tSR:i:2\tL1:i:55\tL2:i:1079\n",
    "\n",
    "S\ts1448320\tTTTTGTTGTTGTTGTTTTTTGTTTTTTGTTTTTCTTT\tLN:i:37\tSN:Z:19\tSO:i:10331714\tSR:i:0\n",
    "L\ts1448319\t+\ts1448320\t+\t0M\tSR:i:0\tL1:i:5792\tL2:i:37\n",
    "L\ts1448320\t+\ts1448321\t+\t0M\tSR:i:0\tL1:i:37\tL2:i:1079\n",
    "```\n",
    "### SV Bubble Data:\n",
    "10331751 - 10331714 = 37\n",
    "\n",
    "### Expected output:\n",
    "18 bp INS\n",
    "\n",
    "Formula = PathLength - End-Pos"
   ]
  },
  {
   "cell_type": "code",
   "execution_count": 77,
   "metadata": {
    "collapsed": false,
    "pycharm": {
     "name": "#%%\n"
    }
   },
   "outputs": [
    {
     "data": {
      "text/html": [
       "<div>\n",
       "<style scoped>\n",
       "    .dataframe tbody tr th:only-of-type {\n",
       "        vertical-align: middle;\n",
       "    }\n",
       "\n",
       "    .dataframe tbody tr th {\n",
       "        vertical-align: top;\n",
       "    }\n",
       "\n",
       "    .dataframe thead th {\n",
       "        text-align: right;\n",
       "    }\n",
       "</style>\n",
       "<table border=\"1\" class=\"dataframe\">\n",
       "  <thead>\n",
       "    <tr style=\"text-align: right;\">\n",
       "      <th></th>\n",
       "      <th>Chr</th>\n",
       "      <th>Pos</th>\n",
       "      <th>End</th>\n",
       "      <th>F1</th>\n",
       "      <th>F2</th>\n",
       "      <th>AligPath</th>\n",
       "      <th>PathLength</th>\n",
       "      <th>MappingStrandSamplCtg</th>\n",
       "      <th>Ctg1_Strain</th>\n",
       "      <th>Ctg2_Sq</th>\n",
       "      <th>Ctg3_Chrom</th>\n",
       "      <th>AproxCtgStart</th>\n",
       "      <th>AproxCtgEnd</th>\n",
       "    </tr>\n",
       "  </thead>\n",
       "  <tbody>\n",
       "    <tr>\n",
       "      <th>1883</th>\n",
       "      <td>19</td>\n",
       "      <td>10331714</td>\n",
       "      <td>10331751</td>\n",
       "      <td>&gt;s1448319</td>\n",
       "      <td>&gt;s1448321</td>\n",
       "      <td>&gt;s1635995</td>\n",
       "      <td>55</td>\n",
       "      <td>+</td>\n",
       "      <td>DBA_2J</td>\n",
       "      <td>1</td>\n",
       "      <td>chr19</td>\n",
       "      <td>7510514</td>\n",
       "      <td>7510645</td>\n",
       "    </tr>\n",
       "  </tbody>\n",
       "</table>\n",
       "</div>"
      ],
      "text/plain": [
       "     Chr       Pos       End         F1         F2   AligPath  PathLength  \\\n",
       "1883  19  10331714  10331751  >s1448319  >s1448321  >s1635995          55   \n",
       "\n",
       "     MappingStrandSamplCtg Ctg1_Strain  Ctg2_Sq Ctg3_Chrom  AproxCtgStart  \\\n",
       "1883                     +      DBA_2J        1      chr19        7510514   \n",
       "\n",
       "      AproxCtgEnd  \n",
       "1883      7510645  "
      ]
     },
     "execution_count": 77,
     "metadata": {},
     "output_type": "execute_result"
    }
   ],
   "source": [
    "data.loc[data['Pos']==10331714]"
   ]
  },
  {
   "cell_type": "markdown",
   "metadata": {
    "collapsed": false,
    "pycharm": {
     "name": "#%% md\n"
    }
   },
   "source": [
    "## Sample 2:\n",
    "---------------\n",
    "\n",
    "### Validated Data\n",
    "Type: DEL H1\n",
    "Coordinates: 19:59971890-59972028\n",
    "Size: 139\n",
    "\n",
    "### Graph Segments\n",
    "```\n",
    "\n",
    "S\ts1481409\tTGGGTAAGTGTATGTATGTATGAGTGTGTGTTAATTTGTGTGTTGTGTGTATGTGTGAGTGTGGGCATGAGTGTGTGTATGGATGTGTGTGAGTGTATGTATGAGTGTATGTGTGTTTATATTTGTGTGATTGTATGTGCATATAAGTGAGAGTGCATGAATGTGTGTAAGTGTGTTGTGTGAGTGCATGTGTGTGTACAGAACTATCTTTGTGTGTGTAGGATATTTTCTCACAGGAACAGAAATGAAACTAAAAATAAAAACCCTCAGAGACACACAGTCTAATCTTTTTACCTACACTAGAAACACACACAACCTACTGAATCTATTTGGTGTTGTTCTTATGTACATGTGTTAGGGGTGACCACTTGTGAGAGGTAACCTATCAGGGGCTCAGTCTTGAAGACTTATTCTCCCTCTCTTGGCATGAGTACCTTGTGAGATTTCCTCTATTCACATTGGCATGCCAGCTGGTATTGTCATTGTGTGGGTCTTGTTTAGGCTGCCATATTATTGAGATCTCATAGAATTCACAAAAGGAAGATAA\tLN:i:547\tSN:Z:19\tSO:i:59971925\tSR:i:0\n",
    "L\ts1481407\t+\ts1481409\t+\t0M\tSR:i:1\tL1:i:3492\tL2:i:547\n",
    "L\ts1481408\t+\ts1481409\t+\t0M\tSR:i:0\tL1:i:135\tL2:i:547\n",
    "L\ts1481409\t+\ts2459456\t+\t0M\tSR:i:15\tL1:i:547\tL2:i:25\n",
    "L\ts1481409\t+\ts1481410\t+\t0M\tSR:i:0\tL1:i:547\tL2:i:38\n",
    "\n",
    "\n",
    "S\ts1481407\tGTAGAACCTTGGACCATTTAAAATAAGTTCAGCATCACTGCGGTTTTAAGATCACTAAATACACCAAAAGCTATGTAAGTACATACTAGGATTTTTATAATCCAACTGTCTAAAGAACTTGAAAACAAACATAAAATAGTCTAAATTTATAAACAAAGCTATTTAAAAGGTATTTAAATGTAAAACCAAATATTAATCAAAACCTTATTAAAAACAATTTGCATTTGCTATTCCAAGACTGAAAAGATTCATGAACAGGACATAAAGACATAAAGATGAAAGATCTAAGAGACCATAACCCTTTTTCATTTTTTGACAAGTTTAAGGTTCTCTTTACAGAAACAGAATTTCAAATGTCTAATCCAAAACTAAAAAGAGAAGCAGTCTTTTGGTATGGAGACTACCCAAAAGGACACCAAATAGTGACCTATAAGTTGTTCTGCTTGATAGTCTGATCACATAGCCTTTCATTAGGCCTAAATGTCTCACAGTGGTTTTTATTGTATTTTATTTCTCTAACAAAAATGATCTTTGAGAATGTAGTTCATCCTGCAAGCTTGACCAGATCAGGGCTTTCAGCAAAAAGACCAGAGAACCACTGAGTTTCCTACTGTAGTACTGATGGGCACTCAGAGCCACTTCCACACAGGGAAGGATATCTAATTTTGAATGTGTACTTAGACTATCGTGACCAGTAAGAACGGCCTCTAGCCTGTCTTCTTCTTCCATTCTTTGTAGTATTTATGGCCACTGGCTTATTGGTTTTGCAATTGTGTCTTTGGTTGCAACCTGGCATTCCATGCTCATATGTCTTTTGTGGACCTGCAGAGTAGCTGGCAAATGTCACAGGTTACAACTGATTGCTGCTTGCTTCCCAATGGAGGAGGCTGATTGATGACTCCCAAGACAAAATATCTTGTTTTATTTTGTGTTGTCCAAAACCTAATCCTATGTTGGAGATGCTAAGAAAAAAAAATGTTCTATGACGTATTTACTGTCGTCGTAACAGACATGCTTACATCACACTGAAGCAACCGTGGCCTCCTAATGCACCCTCAGACAGTTTAAACCTGTAGTGGTTTCAGCAAAATGACCAAATCAATGCTATGAAGACATTTTATCAGTAGGAATCTGAAATGTTTTTGAAACCCTTCCCATGTAGTTTATTACAAAGGACAGACTTTTCTCAGAGATTAGTATTTACTTTTAAAAGGAATGATTTCTTAAATTATAGTTTTGAAACATTAATAACTGCCAGTGGTCCCCAACAGGCTTCTCTTTATTGAAGAGCTGGAAACTTTGAGCCCACTAGACTTCCTTGATCTTAGTCCATATGAATTGTTTAGTTTTATTTGGTGCCACAGGGACTCTTCCATACTTATCAGAAGCTTCAGTTTAATGCAGAAAAAAGAGAGGCTCTGACATGTCAATATAATACTGTTAATGTTTTCCACGTTTGCAATCCCAGGGTCAAAGTCAAACCTCTTATTGTATTAATAATAGCAAAGCAAACATAAGCTTTGTAGTTGTGAATTCATGGTTTTAAGGAATAATTTCCCTACGAGTTTATTAATTCAAGCCATTCATTGACCCACTCGGAATTCTGTTATGTGTTCAGTTGATTTATCTCATGTAGTACCTTCAACTCTGAAAGACCATGAGAATGGATACCTGGATGATGCCTTACAGTCACCAACATGGACCATTGCCTTGTCTAGAAGTTGTGTCAATTTGTAATATTGAAACTCATGTTCAGTAAATGTTAGAACCTAAAAGTGAAATCATGAAGTCCCCTTCGCTCTCTGCATCCAGAAAATGCAGATTTGGCAGTGTGGTTCAGATGCTGGGAATTACAAAGCATGGGTGCTTGTCTCTGGATTCTGTTAGCCTCTGACTCATAGACTAATAATAATCAGAATTTTAATGAGACAGTCACCAAAGAAACCCCAGACAGCCCCAGCTCAGCAAGTCTTCTTTCTTTGAGTTTATATGGAACCTGTGTCTCACTCAGCACTGTCTAACAGTAAAGTTAAACCAAATGCTCCAGGGGCATTTTCTCAGCCCATGCTCTTGCTCAGGATGAAGGTGGCATTGACAATGTGTGACAATGCCTCTCTTTCTACCTGTAGGTCTTGGTGCTCTACCATCCCCCTCCCCACATCCTTTTAAACTTCAAATTTGTTCTTGATGGGTGGAAGGGGAAATTCACAGTGCAGCTAAAGATTATCTGAGCTCCATGCTCTACAGGACAAATTGGAACTAAGTGGGTGCCTCACAGAGGAACAAGCCTGTCTTCTCTGCTCTCCTATATGTGTGGCTGGGGATGCATCTCAGTTGGTACAGTTCTTGTCTAGCATGTACAAAGCCCTGGATCTATTCCCCAGCACCACCTAAACTAGCCATGGTGGTGCACAGCCCTTCGGGGGTACAGGCAGTAGGATTAGAAATTTATGGTCATCCCGGAATTTGTAGGTATATATAGTGAGTCTGAGGCCAGCCTAGTCTATATGAGACCCTGCCTCAAGAGGAAAAGTAGGGCTGTAAGGAACAAGGAAGGGAGGAGGAGGGGAAGGGAGGCAGGGAAGCAAGGAGAGAGGGAGGAATGGAGGGTTAGAGGTCGGAAGGAAGAGAGGAAGAAAGGTCAACAGGCAGGCCAGTCTAATTCTCTCTATTAGAGGTCACTCACAGACATGCACCATAAAATAGCATTATAACATTAGATTTTAATACTAGGTCCAGTTAAATCCAGATGGTGGTTTTGCATTAGTTAGCAGAGACAGGGAGGGTCTTTCCTCCTCTCCTTATTTGATAGGGAAGTTATAGGACACACAGAGACTGACATGTGTATATGTGTGAGTGTGCACACTCCATGTTTACAAGGTCACGCGCCCGACTGGAAGGACCAAGGAAATGATGTGTTTCTGTGTTTGCCGCACTGTTCTCTAGAGATATCAATAGGTACACTGCAGTTAAGTGAGTTAGGAAACACTGGGCTAACTGGAGCACACAGTGCTGCTCTCCTGAGTCACAACAGGACTCCAGAGTCCTCAGTAGTAGGCAGCTGGAGTCCATTCCGACTCTACCTGACTGAGGGCGTAGTGCTGGGCAGGTCACTCACATTTTCTACAGTTCAATTTTCTCATCTGCAAGATGAAGCCAGAGCACATCAGCTCTCACAGTAATTATGATAATCTTTAGGACAGAAACCAAATAGGTACCTTGTAGGGATGCATATATGTTTGTACAGATGGCCACTGTCATCCTTTTTAATTTAAAGCTTTTTGAGAATTTTGTATATGAGAACCACATTTCTATCATTTCCACTCCCCCTCTCCTTCTAATTCCTTCCATGTCTCCCTACCCTGTCTCAACTTACTAACCTCCTCCTCTCTCATTTTTATCATTATCTGTGTGTAAATGTGTCTGTGTGAGAGAGATGTGTATATGTGTGAGTGTGTACATGAGTGTGTGCGTGAGTGTATCAGTGTATGT\tLN:i:3492\tSN:Z:19\tSO:i:59968298\tSR:i:0\n",
    "L\ts1481406\t+\ts1481407\t+\t0M\tSR:i:0\tL1:i:1703\tL2:i:3492\n",
    "L\ts1481407\t+\ts1481409\t+\t0M\tSR:i:1\tL1:i:3492\tL2:i:547\n",
    "L\ts1481407\t+\ts1481408\t+\t0M\tSR:i:0\tL1:i:3492\tL2:i:135\n",
    "L\ts2459455\t+\ts1481407\t+\t0M\tSR:i:15\tL1:i:6499\tL2:i:3492\n",
    "\n",
    "\n",
    "S\ts1481408\tATGAGTGTGTATGTATGTGCACAAGTATGTGTATATGAGTGTGTAAGTGTGTGTGAGTGTATGTATGAGTGCATGTGTGTGTGAGTATGTGTGTGTATAAGTGTATGAATGTAGCAGTGTGTGAGTATACGTTTALN:i:135\tSN:Z:19\tSO:i:59971790\tSR:i:0\n",
    "L\ts1481407\t+\ts1481408\t+\t0M\tSR:i:0\tL1:i:3492\tL2:i:135\n",
    "L\ts1481408\t+\ts1481409\t+\t0M\tSR:i:0\tL1:i:135\tL2:i:547\n",
    "\n",
    "```\n",
    "### SV Bubble Data:\n",
    "\n",
    "AproxCtgEnd - AproxCtgEnd ->  57226895 - 57226887 = 8\n",
    "\n",
    "End - Pos -> 59971925 - 59971790 = 135\n",
    "\n",
    "### Expected output:\n",
    "135 bp DEL\n",
    "\n",
    "## Additional comments:\n",
    "For *:0 length events, the final SV size can be either queried from the graph (missing segment) or subtracting Pos from End"
   ]
  },
  {
   "cell_type": "code",
   "execution_count": 78,
   "metadata": {
    "collapsed": false,
    "pycharm": {
     "name": "#%%\n"
    }
   },
   "outputs": [
    {
     "data": {
      "text/html": [
       "<div>\n",
       "<style scoped>\n",
       "    .dataframe tbody tr th:only-of-type {\n",
       "        vertical-align: middle;\n",
       "    }\n",
       "\n",
       "    .dataframe tbody tr th {\n",
       "        vertical-align: top;\n",
       "    }\n",
       "\n",
       "    .dataframe thead th {\n",
       "        text-align: right;\n",
       "    }\n",
       "</style>\n",
       "<table border=\"1\" class=\"dataframe\">\n",
       "  <thead>\n",
       "    <tr style=\"text-align: right;\">\n",
       "      <th></th>\n",
       "      <th>Chr</th>\n",
       "      <th>Pos</th>\n",
       "      <th>End</th>\n",
       "      <th>F1</th>\n",
       "      <th>F2</th>\n",
       "      <th>AligPath</th>\n",
       "      <th>PathLength</th>\n",
       "      <th>MappingStrandSamplCtg</th>\n",
       "      <th>Ctg1_Strain</th>\n",
       "      <th>Ctg2_Sq</th>\n",
       "      <th>Ctg3_Chrom</th>\n",
       "      <th>AproxCtgStart</th>\n",
       "      <th>AproxCtgEnd</th>\n",
       "    </tr>\n",
       "  </thead>\n",
       "  <tbody>\n",
       "    <tr>\n",
       "      <th>16678</th>\n",
       "      <td>19</td>\n",
       "      <td>59971790</td>\n",
       "      <td>59971925</td>\n",
       "      <td>&gt;s1481407</td>\n",
       "      <td>&gt;s1481409</td>\n",
       "      <td>*</td>\n",
       "      <td>0</td>\n",
       "      <td>+</td>\n",
       "      <td>DBA_2J</td>\n",
       "      <td>1</td>\n",
       "      <td>chr19</td>\n",
       "      <td>57226887</td>\n",
       "      <td>57226895</td>\n",
       "    </tr>\n",
       "  </tbody>\n",
       "</table>\n",
       "</div>"
      ],
      "text/plain": [
       "      Chr       Pos       End         F1         F2 AligPath  PathLength  \\\n",
       "16678  19  59971790  59971925  >s1481407  >s1481409        *           0   \n",
       "\n",
       "      MappingStrandSamplCtg Ctg1_Strain  Ctg2_Sq Ctg3_Chrom  AproxCtgStart  \\\n",
       "16678                     +      DBA_2J        1      chr19       57226887   \n",
       "\n",
       "       AproxCtgEnd  \n",
       "16678     57226895  "
      ]
     },
     "execution_count": 78,
     "metadata": {},
     "output_type": "execute_result"
    }
   ],
   "source": [
    "data.loc[data['Pos']==59971790]"
   ]
  },
  {
   "cell_type": "markdown",
   "metadata": {
    "collapsed": false,
    "pycharm": {
     "name": "#%% md\n"
    }
   },
   "source": [
    "## Sample 3:\n",
    "---------------\n",
    "\n",
    "### Validated Data\n",
    "Type: DEL H1\n",
    "Coordinates: 19:60867244-60868908\n",
    "Size: 1665\n",
    "\n",
    "### Graph Segments\n",
    "```\n",
    "S\ts1481894\tTAGCAATGTGGAAAGTGTAAGCTGAATAAACCCTTTCCTCCCCAACTTGCTTCTTGGTCATGATGTTTTGTGCAAGAATAGAAACCCTGACTAAGACAACTGGTATCCTAAACACCCAATATAGTCACTGGACAGCGGCTAAGACTTTCTGTTGGCTTAAGCACATGTCTAAGCAGTCTTCTCTGGTGAATACCCAACAACAGAACCCTAAAGCAGACAAGGCCAACATGAAGCAGCATATGAACTATACCATCCAGAATTCTGTCATCTTTCCAGTTCCTTTCAAGTCCCTTAGAGGCCATTTCTTTGTGCAGCAATCCCTCTCCCCACAATGAAGGGTAGATTCAGCTCCAAACTTTAGTTAAAAATAAGTTAGCTTGATTTTCAAATAACTAAAAGCTCTTTAATTTTTCCTTTTCAAGCAAAGGAACCTCAGATGAGTCACCTTCAGATGTGCTTTCTTCAGTTCCTACTATGGAGGTGGGATGAGGGACCATGGAAAGGGAAATTGAACTAAATAGCTGATTCCTCTTGGCTATCTACATTTCAGAATTATTGGTGCCTAGTCTCAAAGCACACAACAGATACAAAACAACCTTACTGGTTTCAAAGACTTTTTTATGGTCTCCATTCTGTTACTCTGTAAATCATTTAGTGAAGGCCTTGAATTTTGTGAAGAAAAAACTTGCTCTGGAAGGCTCAAGATACTGGGGTCAGAGGTGGAAAATTTGAGTATAGGTGAGATAAGATTTTCTAAGAATGAAAGTGCAGGATTTTTGTTGTTGTTGTTGTTGTTGTTTTTTGTTCCTTCTTTGATCCCAACTGGGAAAAAGGACATGTCTCAGAAAGAAGGGAGAATGAGAGAGATGTTAGAGGAGAGATTACAGAGTAGCCCCTCCAAGGCAATGGGGTAGCAAGGGTTCTAACCTGCAACTATTTTTTTGGTGGTTGTGGGGGACAACAGGGTCTTCTATAGCCCAGGCTGGCCTCAAACTCACCTTGAACTCCTTCTGGATCCTCCACACCCAGTTTATGTTGTACTGGGGATTGTATCAAGGGTTCATATATGTTAGGTAAGTACTTACTAACTGAGCTGCATGCCCTGTTCCTAATGTGGGGTTTCTCTCTGTCTTTCTCTGTCTCTCTGTCTTTCTCTGTTTCTCTCTGTGTCTCTCTCTCTCTCTTTCTCTGTCTCTCTCTGTGTGTCTCTCTGTCTCTGTCTCTGTCTCTTCTCTGGCCTGATCCTTCTGTGTGACAACCTAGAACTCACTTTGCAGATCAGGCTGGCCTCAGCCTCTGCCTTCCAAGCGCTGGAATTAAAGGAGTGCACCATAATGGGCAATTTCTTAATGGAAAACACTTACAATGATTTAATATTCCTCTCCTTCATGGAGTCTCACCCCACCCATCTACATGGTAGTTTGTGACTGGTCGCCCCAGATCCTCATTCCATTCTGCATGCTGGGGTTGAGTTCTTTGGGTAATTGAATTGTCCTTCTCCGGTCTCTCTTTCCCTAATTACTGATCTGTTCCTATGGAGTCCAGGGTTCCTGCCATATTCTTGCTTTTTAGGAAAATCCAGCCCCTATAATTCAAGAACACCATGCAGTCATGTGGTCTTGGAACCCCAAATCTACAGCTTTCTGATTTCTCTGGTCTGTCATTTCATGATCTATAAAGTTACA\tLN:i:1685\tSN:Z:19\tSO:i:60867229\tSR:i:0\n",
    "L\ts1481893\t+\ts1481894\t+\t0M\tSR:i:0\tL1:i:1142\tL2:i:1685\n",
    "L\ts1481894\t+\ts1481895\t+\t0M\tSR:i:0\tL1:i:1685\tL2:i:797\n",
    "\n",
    "\n",
    "\n",
    "S\ts1636428\tCAGCAGTATGGAAGTGTAACCTGAATAAACCCTTTCCTCCCCAACTTGCTTCTTGGTCATGATGTTTGTGCAGGAATAGAAACCCTGACTAAGACAATGACATAATAGTTCCTACCTC\tLN:i:118\tSN:Z:AKR_J#1#chr19\tSO:i:59397716\tSR:i:2\n",
    "L\ts1481893\t+\ts1636428\t+\t0M\tSR:i:2\tL1:i:1142\tL2:i:118\n",
    "L\ts1636428\t+\ts1481895\t+\t0M\tSR:i:2\tL1:i:118\tL2:i:797\n",
    "\n",
    "1685 - 118 = 1567\n",
    "\n",
    "```\n",
    "### SV Bubble Data:\n",
    "\n",
    "AproxCtgEnd - AproxCtgEnd ->  58153459 - 58153250 = 209\n",
    "\n",
    "End - Pos -> 60868914 - 60867229 = 1685\n",
    "\n",
    "FINAL FORMULA = End - Pos - PathLength\n",
    "\n",
    "### Expected output:\n",
    "1567 bp DEL\n"
   ]
  },
  {
   "cell_type": "code",
   "execution_count": 79,
   "metadata": {
    "collapsed": false,
    "pycharm": {
     "name": "#%%\n"
    }
   },
   "outputs": [
    {
     "data": {
      "text/html": [
       "<div>\n",
       "<style scoped>\n",
       "    .dataframe tbody tr th:only-of-type {\n",
       "        vertical-align: middle;\n",
       "    }\n",
       "\n",
       "    .dataframe tbody tr th {\n",
       "        vertical-align: top;\n",
       "    }\n",
       "\n",
       "    .dataframe thead th {\n",
       "        text-align: right;\n",
       "    }\n",
       "</style>\n",
       "<table border=\"1\" class=\"dataframe\">\n",
       "  <thead>\n",
       "    <tr style=\"text-align: right;\">\n",
       "      <th></th>\n",
       "      <th>Chr</th>\n",
       "      <th>Pos</th>\n",
       "      <th>End</th>\n",
       "      <th>F1</th>\n",
       "      <th>F2</th>\n",
       "      <th>AligPath</th>\n",
       "      <th>PathLength</th>\n",
       "      <th>MappingStrandSamplCtg</th>\n",
       "      <th>Ctg1_Strain</th>\n",
       "      <th>Ctg2_Sq</th>\n",
       "      <th>Ctg3_Chrom</th>\n",
       "      <th>AproxCtgStart</th>\n",
       "      <th>AproxCtgEnd</th>\n",
       "    </tr>\n",
       "  </thead>\n",
       "  <tbody>\n",
       "    <tr>\n",
       "      <th>16912</th>\n",
       "      <td>19</td>\n",
       "      <td>60867229</td>\n",
       "      <td>60868914</td>\n",
       "      <td>&gt;s1481893</td>\n",
       "      <td>&gt;s1481895</td>\n",
       "      <td>&gt;s1636428</td>\n",
       "      <td>118</td>\n",
       "      <td>+</td>\n",
       "      <td>DBA_2J</td>\n",
       "      <td>1</td>\n",
       "      <td>chr19</td>\n",
       "      <td>58153250</td>\n",
       "      <td>58153459</td>\n",
       "    </tr>\n",
       "  </tbody>\n",
       "</table>\n",
       "</div>"
      ],
      "text/plain": [
       "      Chr       Pos       End         F1         F2   AligPath  PathLength  \\\n",
       "16912  19  60867229  60868914  >s1481893  >s1481895  >s1636428         118   \n",
       "\n",
       "      MappingStrandSamplCtg Ctg1_Strain  Ctg2_Sq Ctg3_Chrom  AproxCtgStart  \\\n",
       "16912                     +      DBA_2J        1      chr19       58153250   \n",
       "\n",
       "       AproxCtgEnd  \n",
       "16912     58153459  "
      ]
     },
     "execution_count": 79,
     "metadata": {},
     "output_type": "execute_result"
    }
   ],
   "source": [
    "data.loc[data['Pos']==60867229]"
   ]
  },
  {
   "cell_type": "markdown",
   "metadata": {
    "collapsed": false
   },
   "source": []
  },
  {
   "cell_type": "markdown",
   "metadata": {
    "collapsed": false,
    "pycharm": {
     "name": "#%% md\n"
    }
   },
   "source": [
    "## Sample 4:\n",
    "---------------\n",
    "\n",
    "### Validated Data\n",
    "Type: INS H6\n",
    "Coordinates: 19:38036364-38036364\n",
    "Size: 178\n",
    "\n",
    "### Graph Segments\n",
    "```\n",
    "S\ts1574900\tGGGCTGGTGAGATGGCTCAGTGGGTAAGAGCACTGACTGCTCTTCCGAAGGTTCAGAGTTCAAATCCCAGCAACCACATGGTGGCTCACAACCATCCGTAAAAAGATCTGACTCCCTCTTCTGGAGTGTCTGAAGACAGCTACAGTGTACTTACATATAATAAATAAATGAATCTTTAAAAAAAAAAGAAAAGAAAATGCAATTG\tLN:i:205\tSN:Z:129S1_SvImJ#1#chr19\tSO:i:34830030\tSR:i:1\n",
    "L\ts1466176\t+\ts1574900\t+\t0M\tSR:i:1\tL1:i:1313\tL2:i:205\n",
    "L\ts1574900\t+\ts1466177\t+\t0M\tSR:i:1\tL1:i:205\tL2:i:89\n",
    "\n",
    "S\ts1466177\tATTGCACACGTGGGTATGCATGCATGCATGCGTGCGTGTGTGTGTGTGTGTGTGTGTGTGTGTGTGTGTGTGTGTGTGTGCGCGTGAGT\tLN:i:89\tSN:Z:19\tSO:i:38036376\tSR:i:0\n",
    "L\ts1466176\t+\ts1466177\t+\t0M\tSR:i:0\tL1:i:1313\tL2:i:89\n",
    "L\ts1466177\t+\ts1466178\t+\t0M\tSR:i:0\tL1:i:89\tL2:i:128\n",
    "L\ts1574900\t+\ts1466177\t+\t0M\tSR:i:1\tL1:i:205\tL2:i:89\n",
    "```\n",
    "### SV Bubble Data:\n",
    "\n",
    "AproxCtgEnd - AproxCtgEnd ->  35333742 - 35333444 = 298\n",
    "\n",
    "End - Pos -> 38036465 - 38036376 = 89\n",
    "\n",
    "### Expected output:\n",
    "205 bp INS\n",
    "\n",
    "## Additional comments:\n"
   ]
  },
  {
   "cell_type": "code",
   "execution_count": 80,
   "metadata": {
    "collapsed": false,
    "pycharm": {
     "name": "#%%\n"
    }
   },
   "outputs": [
    {
     "data": {
      "text/html": [
       "<div>\n",
       "<style scoped>\n",
       "    .dataframe tbody tr th:only-of-type {\n",
       "        vertical-align: middle;\n",
       "    }\n",
       "\n",
       "    .dataframe tbody tr th {\n",
       "        vertical-align: top;\n",
       "    }\n",
       "\n",
       "    .dataframe thead th {\n",
       "        text-align: right;\n",
       "    }\n",
       "</style>\n",
       "<table border=\"1\" class=\"dataframe\">\n",
       "  <thead>\n",
       "    <tr style=\"text-align: right;\">\n",
       "      <th></th>\n",
       "      <th>Chr</th>\n",
       "      <th>Pos</th>\n",
       "      <th>End</th>\n",
       "      <th>F1</th>\n",
       "      <th>F2</th>\n",
       "      <th>AligPath</th>\n",
       "      <th>PathLength</th>\n",
       "      <th>MappingStrandSamplCtg</th>\n",
       "      <th>Ctg1_Strain</th>\n",
       "      <th>Ctg2_Sq</th>\n",
       "      <th>Ctg3_Chrom</th>\n",
       "      <th>AproxCtgStart</th>\n",
       "      <th>AproxCtgEnd</th>\n",
       "    </tr>\n",
       "  </thead>\n",
       "  <tbody>\n",
       "    <tr>\n",
       "      <th>9954</th>\n",
       "      <td>19</td>\n",
       "      <td>38036376</td>\n",
       "      <td>38036465</td>\n",
       "      <td>&gt;s1466176</td>\n",
       "      <td>&gt;s1466178</td>\n",
       "      <td>&gt;s1574900&gt;s1466177</td>\n",
       "      <td>294</td>\n",
       "      <td>+</td>\n",
       "      <td>DBA_2J</td>\n",
       "      <td>1</td>\n",
       "      <td>chr19</td>\n",
       "      <td>35333444</td>\n",
       "      <td>35333742</td>\n",
       "    </tr>\n",
       "  </tbody>\n",
       "</table>\n",
       "</div>"
      ],
      "text/plain": [
       "     Chr       Pos       End         F1         F2            AligPath  \\\n",
       "9954  19  38036376  38036465  >s1466176  >s1466178  >s1574900>s1466177   \n",
       "\n",
       "      PathLength MappingStrandSamplCtg Ctg1_Strain  Ctg2_Sq Ctg3_Chrom  \\\n",
       "9954         294                     +      DBA_2J        1      chr19   \n",
       "\n",
       "      AproxCtgStart  AproxCtgEnd  \n",
       "9954       35333444     35333742  "
      ]
     },
     "execution_count": 80,
     "metadata": {},
     "output_type": "execute_result"
    }
   ],
   "source": [
    "data.loc[data['Pos']==38036376]"
   ]
  },
  {
   "cell_type": "markdown",
   "metadata": {
    "collapsed": false,
    "pycharm": {
     "name": "#%% md\n"
    }
   },
   "source": [
    "## Sample 5:\n",
    "---------------\n",
    "\n",
    "### Validated Data\n",
    "Type: INS H7\n",
    "Coordinates: 19:23289094-23289103\n",
    "Size: 373\n",
    "\n",
    "### Graph Segments\n",
    "```\n",
    "REF\n",
    "S\ts1683058\tATACACACACACACACACACACACACACACACACACACACACACACACACTATATATATATATATATATATATATATATATATATATATATATATATATATA\tLN:i:102\tSN:Z:C3H_HeJ#1#chr19\tSO:i:19894285\tSR:i:5\n",
    "L\ts1456617\t+\ts1683058\t+\t0M\tSR:i:5\tL1:i:181\tL2:i:102\n",
    "L\ts1683058\t+\ts1456619\t+\t0M\tSR:i:5\tL1:i:102\tL2:i:3690\n",
    "\n",
    "NEW PATH\n",
    "S\ts1683053\tGAATTACCCCCTCTCTTACACGCGTTCTCGCGACCGGCCAGGAAAGACGCAACAAACCGGAATCTTCTGCGACAAAAGCTTTATTGCTTACATCTTCAGGAGCCAGAGAGCAAGAGAGCAAGAAAGCAAGAGAGCAAGAGCAAGAGAGCAAGAGAAAGAATGGCAAAACCCCGTCCCTTTTAAGGAGAATTATCCTCTGCCTAGGACGTGTCACTCCCTGATTAGCTGCAGCCCATCGGCCCAGTTGTCATCACGAGAAAGGCAGAACACGTGGCGGGAAAACTGCCCCTGCACGTGTGCAGATTATTTACTACTTAGAACACAGCTGTCAGCGCCATCTTATAATGGCAAATGTGAGGGCGGCTCCCCACA\tLN:i:372\tSN:Z:C3H_HeJ#1#chr19\tSO:i:19866035\tSR:i:5\n",
    "L\ts1456607\t+\ts1683053\t+\t0M\tSR:i:5\tL1:i:5464\tL2:i:372\n",
    "L\ts1683053\t+\ts1456609\t+\t0M\tSR:i:5\tL1:i:372\tL2:i:2889\n",
    "\n",
    "```\n",
    "### SV Bubble Data:\n",
    "\n",
    "AproxCtgEnd - AproxCtgEnd ->  20527374 - 20526993 = 381\n",
    "\n",
    "End - Pos -> 23289102 - 23289093 = 9\n",
    "\n",
    "372-102 = 270\n",
    "\n",
    "381-9 = 372\n",
    "\n",
    "### Expected output:\n",
    "372 bp INS\n",
    "\n",
    "## Additional comments:\n"
   ]
  },
  {
   "cell_type": "code",
   "execution_count": 81,
   "metadata": {
    "collapsed": false,
    "pycharm": {
     "name": "#%%\n"
    }
   },
   "outputs": [
    {
     "data": {
      "text/html": [
       "<div>\n",
       "<style scoped>\n",
       "    .dataframe tbody tr th:only-of-type {\n",
       "        vertical-align: middle;\n",
       "    }\n",
       "\n",
       "    .dataframe tbody tr th {\n",
       "        vertical-align: top;\n",
       "    }\n",
       "\n",
       "    .dataframe thead th {\n",
       "        text-align: right;\n",
       "    }\n",
       "</style>\n",
       "<table border=\"1\" class=\"dataframe\">\n",
       "  <thead>\n",
       "    <tr style=\"text-align: right;\">\n",
       "      <th></th>\n",
       "      <th>Chr</th>\n",
       "      <th>Pos</th>\n",
       "      <th>End</th>\n",
       "      <th>F1</th>\n",
       "      <th>F2</th>\n",
       "      <th>AligPath</th>\n",
       "      <th>PathLength</th>\n",
       "      <th>MappingStrandSamplCtg</th>\n",
       "      <th>Ctg1_Strain</th>\n",
       "      <th>Ctg2_Sq</th>\n",
       "      <th>Ctg3_Chrom</th>\n",
       "      <th>AproxCtgStart</th>\n",
       "      <th>AproxCtgEnd</th>\n",
       "    </tr>\n",
       "  </thead>\n",
       "  <tbody>\n",
       "    <tr>\n",
       "      <th>5598</th>\n",
       "      <td>19</td>\n",
       "      <td>23289093</td>\n",
       "      <td>23289102</td>\n",
       "      <td>&gt;s1456607</td>\n",
       "      <td>&gt;s1456609</td>\n",
       "      <td>&gt;s1683053</td>\n",
       "      <td>372</td>\n",
       "      <td>+</td>\n",
       "      <td>DBA_2J</td>\n",
       "      <td>1</td>\n",
       "      <td>chr19</td>\n",
       "      <td>20526993</td>\n",
       "      <td>20527374</td>\n",
       "    </tr>\n",
       "  </tbody>\n",
       "</table>\n",
       "</div>"
      ],
      "text/plain": [
       "     Chr       Pos       End         F1         F2   AligPath  PathLength  \\\n",
       "5598  19  23289093  23289102  >s1456607  >s1456609  >s1683053         372   \n",
       "\n",
       "     MappingStrandSamplCtg Ctg1_Strain  Ctg2_Sq Ctg3_Chrom  AproxCtgStart  \\\n",
       "5598                     +      DBA_2J        1      chr19       20526993   \n",
       "\n",
       "      AproxCtgEnd  \n",
       "5598     20527374  "
      ]
     },
     "execution_count": 81,
     "metadata": {},
     "output_type": "execute_result"
    }
   ],
   "source": [
    "data.loc[data['Pos']==23289093]"
   ]
  },
  {
   "cell_type": "markdown",
   "metadata": {
    "collapsed": false,
    "pycharm": {
     "name": "#%%\n"
    }
   },
   "source": [
    "## Sample 6:\n",
    "--------------\n",
    "\n",
    "### Validated Data\n",
    "None\n",
    "\n",
    "### Graph Segments\n",
    "```\n",
    "REF\n",
    "S\ts1462593\tGAGAAAAGAGACTCCCTTATTTAGTCAGGGTTTGGCACACTGCTGGCTAAGAACATGTTACTACCCTACACGGGCACACGACTTAGTCAGACGACCTTGTTAAGTTCTCAAGAGAAGGAGTCTGGGAAGAGTGACAGCCCAGGACCGACATGGCATGGAATCATGAGAATCCAAACCTAGTGGGTAGACACTCTAAGGAAAGGGTGACATTAGAAGGCTTGCTTTGTGTTTCTGGATTTTGTTTGTTTCTTCAATCCAGGGGAAAATCATTCCGTGAGGCTTCCCTGAGCAGATACCCCAGTCCATCCCTCAGCTCTTTTCCTAAGAGGATTCCTTTGGAGTCTCACAGGCCTATGAAATTCTCAGGGTACATCTCTTTGAGGTCCAGCCCTGTTCAAGTTATAAACAGCATTCTCTTTGTTGGCTCTCGGCTAAGAACTTCCTATCTCTGACTTTCCCATGGACATAACGCAAATGTATCTGATTGCTCTTTCTGCTGAGATATCTGCTCCTTAGAGCACAAGCTAAGGCTTTAAGAAGTATCTCTCTCAGGTCCCTGGACTGATTATCCAGCAGCTCAGCACTTTAGAATCCACACTGAGTTCTCACACATGAGCCTTAGCTCACACATGTAATCCCAGCATTTGAGAGGCAGGAGGATTGTCATGAGTTCAAGGCCAGTCTCGACTATACTGCACTTTCCAGGACAACTAGGATATAGTAGTCAGAAAGACCCTGTCTCAAAAAAAGAAAGAAAGAAAGAAAGAAAGAAAGAAAGAAAGAAAGAAAGAAAGAAAGAAAGAAAAAAAAGACAATATACAACATACAAAAATCACAATTAATGGAAGTTAACTATAAGAGATCATTTCAGTATAGCAGTGGTAATTTAGAATTTATAGAAACTTTAAAACTACCACAGCAACTAAAATGTTCAAGATATTGGATCCATGCTATGATCCGAAGAACCAAACCAAAGTATATTTCATACACTTCCAAGAATGTTTAGCAATAAAAAAACCACACTAAAAATTCTGCAACTCATTAGTCATGAATTGCTTTGATCAGGGATTTCTGTAGCTATTGGTAGTTTGTACAGTTTAGATGAGAAGTGACAGGGCCTGCTTGCTCATGTGTGAGTCACTCACAGAACAGAGCCCGACATGTCCTTTGTGACTAGGCTCCTGATGATGGTCTTCTCAATATTTCTTTTTTATTTTTAAAGATTTATTGATTATATGTAAGTACACTATACCTGTCTTCAGACACTCCAGAAGAGGGCGCCAGATCTCGTTACGGATGGTTGTGAGCCTTCATGTGGTTGCTGGGATTTGAACTCAGGACCTTTGGAAGAACAGTCGGTGCTCTTAACCGCTGAGCCATCTCTCCAGCTCCCTTTTTTTTTTTTTTTTCTTCTCAGTATTTCTACATTATAACAAAAGGTAACAGTATAGGGATGGCCATCATATTCCTGTGTTTAGGACTGGATAGGAAGGGCACTCCTGGGGTAGACAAGCAAGGCAGGTGAAGCCAGCCCAGCTTGGAGGGGAGTCTTCTTGGATTCACCACAGCCCAAGGTGGGGCCCTAATCATCTGTGCTAAAACACAGCCCAAGTAGCACTGAGGTAAAAATGGCAACTGAATAATGTGAGAACAGTAAACTATAATGCAGGTCATGATGGTACCTGCTGACTGGAGAGGGCGACAAGCTCCACACACTTGGCATGGAGCAGCCATCCATGATGGCGTCTACCTGAATGGCCAGACATGGCACCATGTGAGGTTAAGATACACCCTGTGGTGTTCAGGGACAGCAGCAAGCCCACACTCCAAGTCAGGCTTTGTACGTAGGCGATCTGAACTCCAAAGCATACGGACAAGCCCACCCTCAGTCAGGCTGATAAAGGCCTGATAGTGCATCCTAGGACAAGGTCATTTCTCTCTGGACTGGCCAGACTGGCCTCTGAAAATTATATTCCTGGGGTTGAAGAAATAGTCTGACAGCTAACAGTATTATATGCTCTTCCAGAGGGCCTGGTTTAGTTATCAGCACCCACACTGCAGCTTACAACCATTCCTAACTCCAGTTCCAGGGTATATGACCCCTCTTCTGGTTCCTTGGGCATTGTACACATGTGATGCATATATGCAGACAAAACATTCATACACATAAGATAATAAAATAAAAAATTGTTAAATTGGTCTTCTACCTCAGGCTCCACATCCTGATTCTTTTCATTTCTATTAGCAGCTAGTTCCCTTCAGAGCCACGTGCCATTGGATTTCCACTTAACTCCACAGCTTCTCTGTGACCTATTCATTGCAGGCTTATTTTTACATTCTTTCAGCTAGCTGGTGATACTGCCCAAGCAAAAACAGCTATTCCAATTTCACAAACACAGCAAGCATTCAACTGTGAAGCCGGGATTTCTCAACCCTGTATTACTGACAGTTTGGACAGGGCAAGTCCTTGTCATGGGACCATCCTGTGCCTGTAAGATGGATAGCAGCATGCTTGGCTCCACTTATGTCCAGATGTTATATGTCCTCTAGAAGGTAACACTGGTCTCTAAGGAGAACTACAGTCAGTTGACCAAATTGCACAAAGAAAATCTGTACTAAATTCAGGAACTAGTCTGCTACCCCCTAATTCAGCACATATTCCTCTTAAAGCCAAGCCACAGCTCTTCACTGGCAAACACCAGAGGGCACATGCAGAATTTGGTGTAGGCTATCTGCATCATTCTACTAAACAAGCAACATCTTATCTAGCTTCTTGACAGTGAGCAAACTCAGTATCTTTGACTCGCAGCTCAAATGATTACTGCACTGTGCACACTGGATGTAGATTTCAAGGCAAACCCAGGACAAGCTACCTTTTGCTCAAGGAGTCCTGTGAAAGCAAAAGAGGCCACAGCAACAGCGAATCACCAAGGGTAGGGAATGACGTCTGCTACTGCTCTGGAGCACTTCTCCAGAGAATTTTCAACGTTAAATCCTTCATGTCGTCCACCTCTAATGTGATAAGTATTCTTCTATTTCTGTTTTGTGACTAAGGAAATGGAGGCCCAAGGTGTTCAATAATAAGTCATCCAAGACCTGGTTCCCTGGTCCAGAGTCCCAGTTCTTTGCTGTTAGCTGCAGTGAATCCAAGAACTACGGAAACAGCATCTTCTAGATACTCCACCTCTAGCAATCCGAGCTCCCCAGATTTATCAAATCATGTCCATCAGGATTGCTGTTTCAGTCTAACACTACTGTCCTCTCGGCCAGCTCACATATCCATAGCGCTATCCAACCCACATTTTCCCTCTTGGATAGAGAACACCCAGCACTTTAAATGGCGTACTAAGGCTGACACGCCACACCTATGTCACTGTCCTGAAATACTTGCCTGACGCCTCCATTAAGAAAGAAGTGAGGTAATGAACACAAGTTCCTTAGCAAGCACATGTGCAATACTGAGATGTTGAGGGTCACACCATGAAGCCCCGGCTGGCCCTGAGCTCCAGATGTGCTTGCTTCTGCTTTGTAAGGAGTAAGATTACAGGCATGGGCTAACACCCCAGCTCTCATCGCTGGCTTTCTATCTTTTCTTTCTATCCTCACCCATCTTTTCACAAACATATTTTACAATTCTGCTAGACAACGCCACACACTCTGGTCCAATGCCTTTAGAACTGACCATCTACCTGCTTTTGAAAACCTACTTTCTGACATCCTTCTTTCCTGTGATTGTTCTAAGATTATTCCCATGCAATTAGACCATCACACTAGCATGTTCTGTTTGTGAGTTCTTTTCTTGTGTGTATTTTTGGTTTTGGTTTTCTTTTTTGCTGTTGCTTGTTTTGGTGCAAGGAGGTGACTGAGATCCTCATGGGCGCTCTGAAAATGCTCTATCACTGAGCTACACCCTCAAGCCCTGGTATTCCCTTTCAACATCCTGGAGCATAATTGTCACTTCAGATAGCTAGGATGCAGAGATCTGAGGGGGTGGCCAAGGCATTCTTGGCTGGAGAGGTGGGGAGTTCCAAGTAAGACAGATGGAAAAGGCGAAGAGGTGGGGTTGAGTTGGACTAGGTGCCCCAGTGGGTCTTCCAGGCAGGTGGCTTTGCTTTCCTGCATCACGGTGTGCTTGCAGAAGGCCACCTCTGCTGAGAGATGCTGCACCTTGCCCATCTTCTAACTTTAAATCTTATCCACTCCCATGTCCTTTCCCTCATTATTCCCCCTTTAAAGTTATCTGTATTGTTCTTAATTATGTATACAGGGGCATAAATGCAGATGCCCTTGGAAGCTAGGGGCACCGTATTTCCCAGGTGATGGAGTTACAGATGGTTGTAAGCTGCCTGGCATGGGTGCTGGAAACGAACTCAGGAACTCTACAAACACAGTGTGTACTCTCAGCCAATGAGTATGCATGGAGCCATCATTCTGGCCCCTACCTCATCATTTGAAAAAGCAAGTTTAACACTAAATGAAGGACCAACCTAACTTGAAAACTATTCCCACCAGGCATGTCAAACGTTGCAGGTGTGCTCTTATGAAAGGGCATTTCCTGGAAAGCCCAGGATCCAGTGTTTGGCTTCACACTTGGAAAGACCCAGTGTGTACTTCCTGAGGAGCGGGAAGCACAAATTCAGAGCTAAAGAGCTTCCGGAAAAAAAGTCAACAAAGATCAATGGCCCCGAGGCAGCCACGTGTATCAAAATACCCATCAAGAGTCTCCTGCTTGCTCAGTTAATATTTGAAAACCTCAAGCTTCCTGAGTAAATATATTGTTCTGTGAACTTTGAGACTCAGGCATGGAGGCACCAAGGACCTTTTAGATCGCTTGGAAAATCTGTTTCAAACCAAAATTATCCTGGGGATCATTTCACATAAGGAAATCTGGCACTGTTTGACAGCTATAAGAACCACAGGGGGAAATGACAATGCTTGATGGTGACTTCTAACAAAGAGAGTGGACCATCCAAATCTTTAAATACAAGGCGGGGCAATTCACCTCCCTCTGAGCCACTGAGAAACATCTCAACAGCTGAGATGAAGGATCACCCCTTGGTGTCCAGGCTTTGTAACACCAATAGATGAGATGGACCATCTTGATTTAATTATGCCTTTAGATTTTAGATGTTTAAAACTCAACAAGTTATTTTCCCATTTCCCATTCACCACCTAAGGGGGCCTTCCAACCGCCAGCGGTGTCCTTTGGGCTACCTCAGAGGCCGTTGTTCCTCAAGCCGTCCAAGTGTTACCTTTGACCCAGACACTGGATCAGTGTAAAGCAGCACAGCTGGCTTAACAATTAGCCCAGGAGCCTGCAGAAGGCGCTGGGTGCTCAGAGGCTAACTAATGTCTCCAATCATCAACAAGTAGTCTTAAATATTCCACTTAGAAGTGATTTCTTTCTAGAGAAGTCTCCTTTAGAGACCTAAACAAGGTCAGTTGCATAGAATGATACTTTACTCTCCCTCCACTGACTGAAAGCATCTGTCTATACCTTGTAAAAGATGCAGGAGTGCATAGATAATGTC\tLN:i:5531\tSN:Z:19\tSO:i:32175046\tSR:i:0\n",
    "L\ts1462592\t+\ts1462593\t+\t0M\tSR:i:0\tL1:i:29\tL2:i:5531\n",
    "L\ts1462593\t+\ts1462594\t+\t0M\tSR:i:0\tL1:i:5531\tL2:i:6400\n",
    "L\ts1462593\t+\ts1462595\t+\t0M\tSR:i:1\tL1:i:5531\tL2:i:2194\n",
    "L\ts1983135\t+\ts1462593\t+\t0M\tSR:i:11\tL1:i:54\tL2:i:5531\n",
    "\n",
    "\n",
    "```\n",
    "### SV Bubble Data:\n",
    "\n",
    "AproxCtgEnd - AproxCtgEnd ->  29444711 - 29444702 = 9\n",
    "\n",
    "End - Pos -> 32186977 - 32180577 = 6400\n",
    "\n",
    "\n",
    "### Expected output:\n",
    "6400 bp DEL\n",
    "\n",
    "## Additional comments:\n"
   ]
  },
  {
   "cell_type": "code",
   "execution_count": 5,
   "metadata": {},
   "outputs": [
    {
     "data": {
      "text/html": [
       "<div>\n",
       "<style scoped>\n",
       "    .dataframe tbody tr th:only-of-type {\n",
       "        vertical-align: middle;\n",
       "    }\n",
       "\n",
       "    .dataframe tbody tr th {\n",
       "        vertical-align: top;\n",
       "    }\n",
       "\n",
       "    .dataframe thead th {\n",
       "        text-align: right;\n",
       "    }\n",
       "</style>\n",
       "<table border=\"1\" class=\"dataframe\">\n",
       "  <thead>\n",
       "    <tr style=\"text-align: right;\">\n",
       "      <th></th>\n",
       "      <th>Chr</th>\n",
       "      <th>Pos</th>\n",
       "      <th>End</th>\n",
       "      <th>F1</th>\n",
       "      <th>F2</th>\n",
       "      <th>AligPath</th>\n",
       "      <th>PathLength</th>\n",
       "      <th>MappingStrandSamplCtg</th>\n",
       "      <th>Ctg1_Strain</th>\n",
       "      <th>Ctg2_Sq</th>\n",
       "      <th>Ctg3_Chrom</th>\n",
       "      <th>AproxCtgStart</th>\n",
       "      <th>AproxCtgEnd</th>\n",
       "    </tr>\n",
       "  </thead>\n",
       "  <tbody>\n",
       "    <tr>\n",
       "      <th>8321</th>\n",
       "      <td>19</td>\n",
       "      <td>32180577</td>\n",
       "      <td>32186977</td>\n",
       "      <td>&gt;s1462593</td>\n",
       "      <td>&gt;s1462595</td>\n",
       "      <td>*</td>\n",
       "      <td>0</td>\n",
       "      <td>+</td>\n",
       "      <td>DBA_2J</td>\n",
       "      <td>1</td>\n",
       "      <td>chr19</td>\n",
       "      <td>29444702</td>\n",
       "      <td>29444711</td>\n",
       "    </tr>\n",
       "  </tbody>\n",
       "</table>\n",
       "</div>"
      ],
      "text/plain": [
       "     Chr       Pos       End         F1         F2 AligPath  PathLength  \\\n",
       "8321  19  32180577  32186977  >s1462593  >s1462595        *           0   \n",
       "\n",
       "     MappingStrandSamplCtg Ctg1_Strain  Ctg2_Sq Ctg3_Chrom  AproxCtgStart  \\\n",
       "8321                     +      DBA_2J        1      chr19       29444702   \n",
       "\n",
       "      AproxCtgEnd  \n",
       "8321     29444711  "
      ]
     },
     "execution_count": 5,
     "metadata": {},
     "output_type": "execute_result"
    }
   ],
   "source": [
    "data.loc[data['Pos']==32180577]"
   ]
  },
  {
   "cell_type": "code",
   "execution_count": null,
   "metadata": {},
   "outputs": [],
   "source": []
  }
 ],
 "metadata": {
  "interpreter": {
   "hash": "f436b3f4e0cb686b9d8727d4150528491f1a00d795dd1f0fdac8bf615d204a01"
  },
  "kernelspec": {
   "display_name": "Python [conda env:sv] *",
   "language": "python",
   "name": "python3"
  },
  "language_info": {
   "codemirror_mode": {
    "name": "ipython",
    "version": 3
   },
   "file_extension": ".py",
   "mimetype": "text/x-python",
   "name": "python",
   "nbconvert_exporter": "python",
   "pygments_lexer": "ipython3",
   "version": "3.7.10"
  }
 },
 "nbformat": 4,
 "nbformat_minor": 0
}
