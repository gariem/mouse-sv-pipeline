{
 "cells": [
  {
   "cell_type": "code",
   "execution_count": 3,
   "metadata": {
    "collapsed": true
   },
   "outputs": [],
   "source": [
    "import pandas as pd\n",
    "\n",
    "cols = ['Chr1', 'Pos1', 'End1', 'Size1', 'Src', 'Chr2', 'Pos2', 'End2', 'Size2', 'Overlap']\n",
    "group_cols = ['Chr1', 'Pos1', 'End1', 'Size1', 'Chr2', 'Pos2', 'End2', 'Size2', 'Overlap']\n",
    "data = pd.read_csv('sample_data/all_strains_svs/minigraph-INS-all.bed', sep='\\t', names=cols, header=None)\n",
    "\n",
    "grouped_data = data.groupby(group_cols, as_index=False).count()\n",
    "repeated = grouped_data[grouped_data[\"Src\"]==5]\n",
    "repeated = repeated.drop(['Chr2', 'Pos2', 'End2', 'Size2', 'Overlap', 'Src'], axis=1)\n",
    "\n",
    "repeated.to_csv(\"sample_data/all_strains_svs/repeated.bed\", sep=\"\\t\", index=False, header=False)"
   ]
  },
  {
   "cell_type": "code",
   "execution_count": 28,
   "metadata": {
    "collapsed": false,
    "pycharm": {
     "name": "#%%\n"
    }
   },
   "outputs": [],
   "source": []
  },
  {
   "cell_type": "code",
   "execution_count": 28,
   "metadata": {
    "collapsed": false,
    "pycharm": {
     "name": "#%%\n"
    }
   },
   "outputs": [],
   "source": [
    "\n"
   ]
  },
  {
   "cell_type": "code",
   "execution_count": null,
   "metadata": {
    "collapsed": false,
    "pycharm": {
     "name": "#%%\n"
    }
   },
   "outputs": [],
   "source": []
  }
 ],
 "metadata": {
  "interpreter": {
   "hash": "f436b3f4e0cb686b9d8727d4150528491f1a00d795dd1f0fdac8bf615d204a01"
  },
  "kernelspec": {
   "display_name": "Python [conda env:sv] *",
   "language": "python",
   "name": "python3"
  },
  "language_info": {
   "codemirror_mode": {
    "name": "ipython",
    "version": 3
   },
   "file_extension": ".py",
   "mimetype": "text/x-python",
   "name": "python",
   "nbconvert_exporter": "python",
   "pygments_lexer": "ipython3",
   "version": "3.7.10"
  }
 },
 "nbformat": 4,
 "nbformat_minor": 0
}
